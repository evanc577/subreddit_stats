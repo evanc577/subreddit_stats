{
 "cells": [
  {
   "cell_type": "markdown",
   "metadata": {},
   "source": [
    "# Subreddit Stats"
   ]
  },
  {
   "cell_type": "code",
   "execution_count": 1,
   "metadata": {},
   "outputs": [],
   "source": [
    "import matplotlib.pyplot as plt\n",
    "from matplotlib.ticker import MaxNLocator\n",
    "import matplotlib.dates as md\n",
    "import numpy as np\n",
    "import praw\n",
    "from psaw import PushshiftAPI\n",
    "import datetime\n",
    "import yaml\n",
    "import time\n",
    "from sortedcontainers import SortedDict\n",
    "from collections import OrderedDict"
   ]
  },
  {
   "cell_type": "markdown",
   "metadata": {},
   "source": [
    "## Parameters"
   ]
  },
  {
   "cell_type": "code",
   "execution_count": 2,
   "metadata": {},
   "outputs": [],
   "source": [
    "start_epoch = int(datetime.datetime(2018, 1, 1).timestamp())\n",
    "start_subs = 680       # number of subs at start_epoch (needed if before 2018/3/15, see redditmetrics.com)\n",
    "end_epoch = int(datetime.datetime(2019, 1, 1).timestamp())\n",
    "max_posts = 10000      # max number of posts to crawl, None for unlimited\n",
    "sub = 'dreamcatcher'   # subreddit to crawl"
   ]
  },
  {
   "cell_type": "markdown",
   "metadata": {},
   "source": [
    "## Get Data"
   ]
  },
  {
   "cell_type": "code",
   "execution_count": 3,
   "metadata": {},
   "outputs": [],
   "source": [
    "class Comment:\n",
    "    def __init__(self):\n",
    "        self.body = ''\n",
    "        self.author = ''\n",
    "        self.score = 0\n",
    "        self.ts = 0\n",
    "        self.url = ''\n",
    "\n",
    "class Post:\n",
    "    def __init__(self):\n",
    "        self.title = ''\n",
    "        self.author = ''\n",
    "        self.ts = 0\n",
    "        self.score = 0\n",
    "        self.comments = []\n",
    "        self.url = ''"
   ]
  },
  {
   "cell_type": "code",
   "execution_count": null,
   "metadata": {},
   "outputs": [
    {
     "name": "stdout",
     "output_type": "stream",
     "text": [
      "02988: 2018-02-16 11:16:01 --- [Dreamcatcher] 2018 ISAC Watch It Live Self Cam.....\r"
     ]
    }
   ],
   "source": [
    "stream = open('client_info.txt', 'r')\n",
    "doc = yaml.load(stream)\n",
    "\n",
    "r = praw.Reddit(client_id=doc['client_id'],\n",
    "                client_secret=doc['client_secret'],\n",
    "                user_agent='test'\n",
    "                )\n",
    "api_ps_praw = PushshiftAPI(r)\n",
    "api_ps = PushshiftAPI()\n",
    "post_ids = api_ps_praw.search_submissions(after=start_epoch,\n",
    "                                  before=end_epoch,\n",
    "                                  subreddit=sub,\n",
    "                                  filter=['url', 'author', 'title', 'subreddit'],\n",
    "                                  limit=max_posts)\n",
    "subs = api_ps.search_submissions(after=start_epoch,\n",
    "                                  before=end_epoch,\n",
    "                                  subreddit=sub,\n",
    "                                  filter=['subreddit', 'id', 'subreddit_subscribers'],\n",
    "                                  limit=max_posts)\n",
    "id2subs = {}\n",
    "\n",
    "for s in subs:\n",
    "    if hasattr(s, 'subreddit_subscribers'):\n",
    "        num_subs = s.subreddit_subscribers\n",
    "    else:\n",
    "        num_subs = -1    \n",
    "    id2subs[s.id] = num_subs\n",
    "            \n",
    "subcount = SortedDict()\n",
    "posts = []\n",
    "prev_info_len = 1\n",
    "\n",
    "for i, post_id in enumerate(post_ids):\n",
    "    submission = praw.models.Submission(r, id=post_id)\n",
    "    ts = int(submission.created_utc)\n",
    "    subcount[ts] = id2subs[post_id.id]\n",
    "    submission.comments.replace_more()\n",
    "    comment_ids = submission.comments.list()\n",
    "    c = []\n",
    "    \n",
    "    for comment_id in comment_ids:\n",
    "        comment = praw.models.Comment(r, id=comment_id)\n",
    "        temp = Comment()\n",
    "        temp.body = comment.body\n",
    "        temp.author = comment.author\n",
    "        temp.ts = comment.created_utc\n",
    "        temp.score = comment.score\n",
    "        temp.url = comment.permalink\n",
    "        c.append(temp)\n",
    "    \n",
    "    ts_str = datetime.datetime.utcfromtimestamp(ts).strftime('%Y-%m-%d %H:%M:%S')\n",
    "    temp = Post()\n",
    "    temp.title = submission.title\n",
    "    temp.author = submission.author\n",
    "    temp.ts = submission.created_utc\n",
    "    temp.score = submission.score\n",
    "    temp.comments = c\n",
    "    temp.url = submission.permalink\n",
    "    posts.append(temp)\n",
    "    \n",
    "    title = (temp.title[:47] + '...') if len(temp.title) > 47 else temp.title\n",
    "    info = '%05d: %s --- %s' % (i, ts_str, title)\n",
    "    clear = ' ' * prev_info_len\n",
    "    print('%s' % clear, end='\\r', flush=True)\n",
    "    prev_info_len = len(info)\n",
    "    print('%s' % info, end='\\r', flush=True)\n",
    "    \n",
    "num_posts = i+1\n",
    "    \n",
    "print('\\ndone')"
   ]
  },
  {
   "cell_type": "markdown",
   "metadata": {},
   "source": [
    "## Visualize Data"
   ]
  },
  {
   "cell_type": "markdown",
   "metadata": {},
   "source": [
    "### Subscriber Growth"
   ]
  },
  {
   "cell_type": "code",
   "execution_count": null,
   "metadata": {},
   "outputs": [],
   "source": [
    "timestamps = np.zeros(len(subcount))\n",
    "subs = np.zeros(len(subcount))\n",
    "no_sub_data_end = -1\n",
    "for i, ts in enumerate(subcount):\n",
    "    timestamps[i] = ts\n",
    "    subs[i] = subcount[ts]\n",
    "    if subs[i] == -1:\n",
    "        no_sub_data_end = i\n",
    "        \n",
    "    \n",
    "if start_subs is not None:\n",
    "    if no_sub_data_end < len(subs)-1:\n",
    "        subs[:no_sub_data_end+1] = np.linspace(start_subs, subs[no_sub_data_end+1], no_sub_data_end+1)\n",
    "        \n",
    "for i in range(no_sub_data_end):\n",
    "    subcount[timestamps[i]] = subs[i]\n",
    "    \n",
    "dates = [datetime.datetime.fromtimestamp(ts) for ts in timestamps]\n",
    "\n",
    "plt.figure(figsize=(12,10))\n",
    "plt.xticks(rotation=45)\n",
    "ax = plt.gca()\n",
    "xfmt = md.DateFormatter('%y-%m')\n",
    "ax.xaxis.set_major_formatter(xfmt)\n",
    "plt.plot(dates, subs)\n",
    "plt.xlabel('date')\n",
    "plt.ylabel('subscriber count')\n",
    "plt.title('/r/%s Subscriber Growth' % (sub))\n",
    "plt.show()"
   ]
  },
  {
   "cell_type": "markdown",
   "metadata": {},
   "source": [
    "### Top Posts"
   ]
  },
  {
   "cell_type": "code",
   "execution_count": null,
   "metadata": {},
   "outputs": [],
   "source": [
    "adj_scores = np.zeros((len(posts)), dtype=float)\n",
    "for i, post in enumerate(posts):\n",
    "    ts = int(post.ts)\n",
    "    adj_scores[i] = (float(post.score) / subcount[ts])\n",
    "\n",
    "\n",
    "top_idx = (-adj_scores).argsort()[:10]\n",
    "\n",
    "for i, idx in enumerate(top_idx):\n",
    "    post = posts[idx]\n",
    "    ts = int(post.ts)\n",
    "    ts_str = datetime.datetime.utcfromtimestamp(ts).strftime('%Y-%m-%d %H:%M:%S')\n",
    "    print('top post #%d' % (i+1))\n",
    "    print('title:          %s' % (post.title))\n",
    "    print('author:         %s' % (post.author))\n",
    "    print('time:           %s' % (ts_str))\n",
    "    print('score:          %d' % (post.score))\n",
    "    print('adjusted score: %0.2f' % (float(post.score) / subcount[int(post.ts)]))\n",
    "    print('comments:       %d' % (len(post.comments)))\n",
    "    print('permalink:      https://www.reddit.com%s' % (post.url))\n",
    "    print()"
   ]
  },
  {
   "cell_type": "markdown",
   "metadata": {},
   "source": [
    "### Top Comments"
   ]
  },
  {
   "cell_type": "code",
   "execution_count": null,
   "metadata": {},
   "outputs": [],
   "source": [
    "all_comments = []\n",
    "comment_ts2post_ts = {}\n",
    "for i, post in enumerate(posts):\n",
    "    ts = int(post.ts)\n",
    "    for comment in post.comments:\n",
    "        all_comments.append(comment)\n",
    "        if comment.ts not in comment_ts2post_ts:\n",
    "            comment_ts2post_ts[comment.ts] = ts\n",
    "\n",
    "adj_scores = np.zeros((len(all_comments)), dtype=float)\n",
    "for i in range(len(all_comments)):\n",
    "    ts = int(all_comments[i].ts)\n",
    "    adj_scores[i] = float(all_comments[i].score) / subcount[comment_ts2post_ts[ts]]\n",
    "    \n",
    "top_idx = (-adj_scores).argsort()[:10]\n",
    "\n",
    "for i, idx in enumerate(top_idx):\n",
    "    comment = all_comments[idx]\n",
    "    body = comment.body.replace('\\n', ' ')\n",
    "    body = (body[:97] + '...') if len(body) > 97 else body\n",
    "    ts = int(comment.ts)\n",
    "    ts_str = datetime.datetime.utcfromtimestamp(ts).strftime('%Y-%m-%d %H:%M:%S')\n",
    "    print('top comment #%d' % (i+1))\n",
    "    print('comment:        %s' % (body))\n",
    "    print('author:         %s' % (comment.author))\n",
    "    print('time:           %s' % (ts_str))\n",
    "    print('score:          %d' % (comment.score))\n",
    "    print('adjusted score: %f' % (adj_scores[idx]))\n",
    "    print('permalink:      https://www.reddit.com%s' % (comment.url))\n",
    "    print()"
   ]
  },
  {
   "cell_type": "markdown",
   "metadata": {},
   "source": [
    "### Top Users"
   ]
  },
  {
   "cell_type": "code",
   "execution_count": null,
   "metadata": {},
   "outputs": [],
   "source": [
    "users = OrderedDict()\n",
    "for i, post in enumerate(posts):\n",
    "    ts = int(post.ts)\n",
    "    if post.author == None:\n",
    "        continue\n",
    "    if post.author not in users:\n",
    "        users[post.author] = {}\n",
    "        users[post.author]['score'] = 0\n",
    "        users[post.author]['adj_score'] = 0\n",
    "        users[post.author]['posts'] = 0\n",
    "        users[post.author]['comment_score'] = 0\n",
    "        users[post.author]['adj_comment_score'] = 0\n",
    "        users[post.author]['comments'] = 0\n",
    "    users[post.author]['score'] += post.score\n",
    "    users[post.author]['adj_score'] += (float(post.score) / subcount[ts])\n",
    "    users[post.author]['posts'] += 1\n",
    "    for comment in post.comments:\n",
    "        if comment.author not in users:\n",
    "            users[comment.author] = {}\n",
    "            users[comment.author]['score'] = 0\n",
    "            users[comment.author]['adj_score'] = 0\n",
    "            users[comment.author]['posts'] = 0\n",
    "            users[comment.author]['comment_score'] = 0\n",
    "            users[comment.author]['adj_comment_score'] = 0\n",
    "            users[comment.author]['comments'] = 0\n",
    "        users[comment.author]['comment_score'] += comment.score\n",
    "        users[comment.author]['adj_comment_score'] += (float(post.score) / subcount[ts])\n",
    "        users[comment.author]['comments'] += 1"
   ]
  },
  {
   "cell_type": "markdown",
   "metadata": {},
   "source": [
    "#### Top Posters"
   ]
  },
  {
   "cell_type": "code",
   "execution_count": null,
   "metadata": {},
   "outputs": [],
   "source": [
    "sorted_users = OrderedDict(sorted(users.items(), key=lambda x: x[1]['adj_score'], reverse=True))\n",
    "\n",
    "for i, key in enumerate(sorted_users):\n",
    "    if i >= 10:\n",
    "        break\n",
    "    print('top poster #%d' % (i+1))\n",
    "    print('user:                  %s' % (key))\n",
    "    print('total number of posts: %d' % (sorted_users[key]['posts']))\n",
    "    print('total score:           %d' % (sorted_users[key]['score']))\n",
    "    print('total adjusted score:  %f' % (sorted_users[key]['adj_score']))\n",
    "    print()"
   ]
  },
  {
   "cell_type": "markdown",
   "metadata": {},
   "source": [
    "#### Top Commenters"
   ]
  },
  {
   "cell_type": "code",
   "execution_count": null,
   "metadata": {},
   "outputs": [],
   "source": [
    "sorted_users = OrderedDict(sorted(users.items(), key=lambda x: x[1]['adj_comment_score'], reverse=True))\n",
    "\n",
    "for i, key in enumerate(sorted_users):\n",
    "    if i >= 10:\n",
    "        break\n",
    "    print('top commenter #%d' % (i+1))\n",
    "    print('user:                          %s' % (key))\n",
    "    print('total number of comments:      %d' % (sorted_users[key]['comments']))\n",
    "    print('total comment score:           %d' % (sorted_users[key]['comment_score']))\n",
    "    print('total adjusted comment score:  %f' % (sorted_users[key]['adj_comment_score']))\n",
    "    print()"
   ]
  }
 ],
 "metadata": {
  "kernelspec": {
   "display_name": "dc_test",
   "language": "python",
   "name": "dc_test"
  },
  "language_info": {
   "codemirror_mode": {
    "name": "ipython",
    "version": 3
   },
   "file_extension": ".py",
   "mimetype": "text/x-python",
   "name": "python",
   "nbconvert_exporter": "python",
   "pygments_lexer": "ipython3",
   "version": "3.7.1"
  }
 },
 "nbformat": 4,
 "nbformat_minor": 2
}
